{
 "cells": [
  {
   "cell_type": "code",
   "execution_count": 1,
   "metadata": {
    "collapsed": true
   },
   "outputs": [],
   "source": [
    "import sys\n",
    "import os\n",
    "import re"
   ]
  },
  {
   "cell_type": "code",
   "execution_count": 2,
   "metadata": {
    "collapsed": true
   },
   "outputs": [],
   "source": [
    "# # Complete the function below.\n",
    "\n",
    "# def not_bad(string):\n",
    "#     if 'not' in string[:string.find(' bad ')+3]:\n",
    "#         substring = string[string.find(' not '):string.find(' bad ')+3]\n",
    "        \n",
    "#         if substring in string:\n",
    "#             return string.replace(substring, 'good')\n",
    "#     else:\n",
    "#         return string"
   ]
  },
  {
   "cell_type": "code",
   "execution_count": 3,
   "metadata": {},
   "outputs": [
    {
     "data": {
      "text/plain": [
       "\"\\ndef not_bad(s):\\n    if 'not' in s:\\n        if 'bad' in s:\\n            snot = s.find('not')\\n            sbad = s.find('bad')\\n            snotbad = s[snot:(sbad+3)]\\n            if snot < sbad:\\n                if snotbad in s:\\n                    s = s.replace(snotbad, 'good')\\n    return s\\n\""
      ]
     },
     "execution_count": 3,
     "metadata": {},
     "output_type": "execute_result"
    }
   ],
   "source": [
    "\n",
    "def notbad(s):\n",
    "    if 'not' in s:\n",
    "        if 'bad' in s:\n",
    "            snot = s.find('not')\n",
    "            sbad = s.find('bad')\n",
    "            snotbad = s[snot:(sbad+3)]\n",
    "            if snot < sbad:\n",
    "                if snotbad in s:\n",
    "                    s = s.replace(snotbad, 'good')\n",
    "    return s\n"
   ]
  },
  {
   "cell_type": "code",
   "execution_count": 12,
   "metadata": {},
   "outputs": [],
   "source": [
    "def not_bad(s):\n",
    "    return re.sub('not.*bad','good',s,count=1)\n",
    "    "
   ]
  },
  {
   "cell_type": "code",
   "execution_count": 13,
   "metadata": {},
   "outputs": [
    {
     "name": "stdout",
     "output_type": "stream",
     "text": [
      "This is good!\n"
     ]
    }
   ],
   "source": [
    "s = \"This is not bad at all. bad!\".strip()\n",
    "res = not_bad(s)\n",
    "print(res)"
   ]
  },
  {
   "cell_type": "code",
   "execution_count": null,
   "metadata": {
    "collapsed": true
   },
   "outputs": [],
   "source": []
  }
 ],
 "metadata": {
  "kernelspec": {
   "display_name": "Python 3",
   "language": "python",
   "name": "python3"
  },
  "language_info": {
   "codemirror_mode": {
    "name": "ipython",
    "version": 3
   },
   "file_extension": ".py",
   "mimetype": "text/x-python",
   "name": "python",
   "nbconvert_exporter": "python",
   "pygments_lexer": "ipython3",
   "version": "3.6.3"
  }
 },
 "nbformat": 4,
 "nbformat_minor": 2
}
