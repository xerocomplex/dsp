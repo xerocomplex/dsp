{
 "cells": [
  {
   "cell_type": "code",
   "execution_count": 5,
   "metadata": {
    "collapsed": true
   },
   "outputs": [],
   "source": [
    "import sys\n",
    "import os\n",
    "import re"
   ]
  },
  {
   "cell_type": "code",
   "execution_count": 6,
   "metadata": {
    "collapsed": true
   },
   "outputs": [],
   "source": [
    "# # Complete the function below.\n",
    "\n",
    "# def not_bad(string):\n",
    "#     if 'not' in string[:string.find(' bad ')+3]:\n",
    "#         substring = string[string.find(' not '):string.find(' bad ')+3]\n",
    "        \n",
    "#         if substring in string:\n",
    "#             return string.replace(substring, 'good')\n",
    "#     else:\n",
    "#         return string"
   ]
  },
  {
   "cell_type": "code",
   "execution_count": 7,
   "metadata": {},
   "outputs": [
    {
     "name": "stdout",
     "output_type": "stream",
     "text": [
      "This is good at all. bad!\n"
     ]
    }
   ],
   "source": [
    "def not_bad(s):\n",
    "    if 'not' in s:\n",
    "        if 'bad' in s:\n",
    "            snot = s.find('not')\n",
    "            sbad = s.find('bad')\n",
    "            snotbad = s[snot:(sbad+3)]\n",
    "            if snot < sbad:\n",
    "                if snotbad in s:\n",
    "                    s = s.replace(snotbad, 'good')\n",
    "    return s\n",
    "\n",
    "s = \"This is not bad at all. bad!\".strip()\n",
    "res = not_bad(s)\n",
    "print(res)"
   ]
  },
  {
   "cell_type": "code",
   "execution_count": 8,
   "metadata": {},
   "outputs": [
    {
     "name": "stdout",
     "output_type": "stream",
     "text": [
      "This is good!\n"
     ]
    }
   ],
   "source": [
    "def not_bad(s):\n",
    "    return re.sub('not.*bad','good',s,count=1)\n",
    "\n",
    "s = \"This is not bad at all. bad!\".strip()\n",
    "res = not_bad(s)\n",
    "print(res)"
   ]
  },
  {
   "cell_type": "code",
   "execution_count": 22,
   "metadata": {},
   "outputs": [
    {
     "name": "stdout",
     "output_type": "stream",
     "text": [
      "This is good at all. bad!\n"
     ]
    }
   ],
   "source": [
    "def not_bad(s):\n",
    "    q = s.split( \"bad\" )\n",
    "    w = q[0].split( \"not\" )\n",
    "    if len(q) > 1 < len(w):\n",
    "        return w[0] + \"good\" + \"bad\".join(q[1:])\n",
    "    return s\n",
    "s = \"This is not bad at all. bad!\".strip()\n",
    "res = not_bad(s)\n",
    "print(res)"
   ]
  },
  {
   "cell_type": "code",
   "execution_count": 21,
   "metadata": {},
   "outputs": [
    {
     "data": {
      "text/plain": [
       "'This is really good.'"
      ]
     },
     "execution_count": 21,
     "metadata": {},
     "output_type": "execute_result"
    }
   ],
   "source": [
    "s = \"This is really not bad.\"\n",
    "untilBad = s.split('bad')\n",
    "untilNot = untilBad[0].split('not')\n",
    "untilNot[0] + \"good\" + \"bad\".join(untilBad[1:])"
   ]
  },
  {
   "cell_type": "code",
   "execution_count": null,
   "metadata": {
    "collapsed": true
   },
   "outputs": [],
   "source": []
  }
 ],
 "metadata": {
  "kernelspec": {
   "display_name": "Python 3",
   "language": "python",
   "name": "python3"
  },
  "language_info": {
   "codemirror_mode": {
    "name": "ipython",
    "version": 3
   },
   "file_extension": ".py",
   "mimetype": "text/x-python",
   "name": "python",
   "nbconvert_exporter": "python",
   "pygments_lexer": "ipython3",
   "version": "3.6.3"
  }
 },
 "nbformat": 4,
 "nbformat_minor": 2
}
